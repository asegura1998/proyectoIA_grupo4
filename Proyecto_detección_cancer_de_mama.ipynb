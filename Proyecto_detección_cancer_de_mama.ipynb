{
  "nbformat": 4,
  "nbformat_minor": 0,
  "metadata": {
    "colab": {
      "name": "Proyecto detección cancer de mama.ipynb",
      "provenance": [],
      "collapsed_sections": [],
      "include_colab_link": true
    },
    "kernelspec": {
      "name": "python3",
      "display_name": "Python 3"
    }
  },
  "cells": [
    {
      "cell_type": "markdown",
      "metadata": {
        "id": "view-in-github",
        "colab_type": "text"
      },
      "source": [
        "<a href=\"https://colab.research.google.com/github/asegura1998/proyectoIA_grupo4/blob/main/Proyecto_detecci%C3%B3n_cancer_de_mama.ipynb\" target=\"_parent\"><img src=\"https://colab.research.google.com/assets/colab-badge.svg\" alt=\"Open In Colab\"/></a>"
      ]
    },
    {
      "cell_type": "markdown",
      "metadata": {
        "id": "uomgM90mqdY4"
      },
      "source": [
        "Librerias\n"
      ]
    },
    {
      "cell_type": "code",
      "metadata": {
        "id": "FUyypzgzqcQ7"
      },
      "source": [
        "import numpy as np\n",
        "import pandas as pd\n",
        "import matplotlib.pyplot as plt\n",
        "from matplotlib.colors import ListedColormap\n",
        "import matplotlib.patches as mpatches\n",
        "import seaborn as sb\n",
        "from scipy.spatial import distance\n",
        "%matplotlib inline\n",
        "from sklearn import svm\n",
        "from sklearn.preprocessing import StandardScaler,MinMaxScaler\n",
        "from sklearn import datasets\n",
        "from sklearn.linear_model import LogisticRegression\n",
        "from sklearn.svm import SVC\n",
        "from sklearn.neighbors import KNeighborsClassifier\n",
        "from sklearn.neural_network import MLPClassifier\n",
        "from sklearn.model_selection import train_test_split\n",
        "from sklearn.metrics import confusion_matrix\n",
        "from sklearn.metrics import precision_score\n",
        "from sklearn.metrics import matthews_corrcoef\n",
        "from sklearn.metrics import accuracy_score\n",
        "from sklearn.metrics import roc_curve,roc_auc_score\n",
        "from sklearn.metrics import classification_report\n",
        "\n",
        "#Se carga el dataset\n",
        "dataset = pd.read_csv(\"Breast_cancer_data.csv\", sep=',',header=0)\n",
        "#seleccionamos las columnas\n",
        "X = dataset[['mean_radius','mean_texture','mean_perimeter','mean_area','mean_smoothness']]\n",
        "#Se seleccional las etiquetas\n",
        "y= dataset['diagnosis']\n",
        "\n",
        "#entrenamiento y prueba\n",
        "X_train, X_test, y_train, y_test = train_test_split(X, y, test_size=0.3)"
      ],
      "execution_count": null,
      "outputs": []
    },
    {
      "cell_type": "markdown",
      "metadata": {
        "id": "eWq0jG7vYChe"
      },
      "source": [
        "Datos"
      ]
    },
    {
      "cell_type": "code",
      "metadata": {
        "id": "-oZUs9w0aQKu",
        "colab": {
          "base_uri": "https://localhost:8080/",
          "height": 297
        },
        "outputId": "0337f786-1c68-40b1-9598-24bf7d47c2ee"
      },
      "source": [
        "dataset.describe()"
      ],
      "execution_count": null,
      "outputs": [
        {
          "output_type": "execute_result",
          "data": {
            "text/html": [
              "<div>\n",
              "<style scoped>\n",
              "    .dataframe tbody tr th:only-of-type {\n",
              "        vertical-align: middle;\n",
              "    }\n",
              "\n",
              "    .dataframe tbody tr th {\n",
              "        vertical-align: top;\n",
              "    }\n",
              "\n",
              "    .dataframe thead th {\n",
              "        text-align: right;\n",
              "    }\n",
              "</style>\n",
              "<table border=\"1\" class=\"dataframe\">\n",
              "  <thead>\n",
              "    <tr style=\"text-align: right;\">\n",
              "      <th></th>\n",
              "      <th>mean_radius</th>\n",
              "      <th>mean_texture</th>\n",
              "      <th>mean_perimeter</th>\n",
              "      <th>mean_area</th>\n",
              "      <th>mean_smoothness</th>\n",
              "      <th>diagnosis</th>\n",
              "    </tr>\n",
              "  </thead>\n",
              "  <tbody>\n",
              "    <tr>\n",
              "      <th>count</th>\n",
              "      <td>569.000000</td>\n",
              "      <td>569.000000</td>\n",
              "      <td>569.000000</td>\n",
              "      <td>569.000000</td>\n",
              "      <td>569.000000</td>\n",
              "      <td>569.000000</td>\n",
              "    </tr>\n",
              "    <tr>\n",
              "      <th>mean</th>\n",
              "      <td>14.127292</td>\n",
              "      <td>19.289649</td>\n",
              "      <td>91.969033</td>\n",
              "      <td>654.889104</td>\n",
              "      <td>0.096360</td>\n",
              "      <td>0.627417</td>\n",
              "    </tr>\n",
              "    <tr>\n",
              "      <th>std</th>\n",
              "      <td>3.524049</td>\n",
              "      <td>4.301036</td>\n",
              "      <td>24.298981</td>\n",
              "      <td>351.914129</td>\n",
              "      <td>0.014064</td>\n",
              "      <td>0.483918</td>\n",
              "    </tr>\n",
              "    <tr>\n",
              "      <th>min</th>\n",
              "      <td>6.981000</td>\n",
              "      <td>9.710000</td>\n",
              "      <td>43.790000</td>\n",
              "      <td>143.500000</td>\n",
              "      <td>0.052630</td>\n",
              "      <td>0.000000</td>\n",
              "    </tr>\n",
              "    <tr>\n",
              "      <th>25%</th>\n",
              "      <td>11.700000</td>\n",
              "      <td>16.170000</td>\n",
              "      <td>75.170000</td>\n",
              "      <td>420.300000</td>\n",
              "      <td>0.086370</td>\n",
              "      <td>0.000000</td>\n",
              "    </tr>\n",
              "    <tr>\n",
              "      <th>50%</th>\n",
              "      <td>13.370000</td>\n",
              "      <td>18.840000</td>\n",
              "      <td>86.240000</td>\n",
              "      <td>551.100000</td>\n",
              "      <td>0.095870</td>\n",
              "      <td>1.000000</td>\n",
              "    </tr>\n",
              "    <tr>\n",
              "      <th>75%</th>\n",
              "      <td>15.780000</td>\n",
              "      <td>21.800000</td>\n",
              "      <td>104.100000</td>\n",
              "      <td>782.700000</td>\n",
              "      <td>0.105300</td>\n",
              "      <td>1.000000</td>\n",
              "    </tr>\n",
              "    <tr>\n",
              "      <th>max</th>\n",
              "      <td>28.110000</td>\n",
              "      <td>39.280000</td>\n",
              "      <td>188.500000</td>\n",
              "      <td>2501.000000</td>\n",
              "      <td>0.163400</td>\n",
              "      <td>1.000000</td>\n",
              "    </tr>\n",
              "  </tbody>\n",
              "</table>\n",
              "</div>"
            ],
            "text/plain": [
              "       mean_radius  mean_texture  ...  mean_smoothness   diagnosis\n",
              "count   569.000000    569.000000  ...       569.000000  569.000000\n",
              "mean     14.127292     19.289649  ...         0.096360    0.627417\n",
              "std       3.524049      4.301036  ...         0.014064    0.483918\n",
              "min       6.981000      9.710000  ...         0.052630    0.000000\n",
              "25%      11.700000     16.170000  ...         0.086370    0.000000\n",
              "50%      13.370000     18.840000  ...         0.095870    1.000000\n",
              "75%      15.780000     21.800000  ...         0.105300    1.000000\n",
              "max      28.110000     39.280000  ...         0.163400    1.000000\n",
              "\n",
              "[8 rows x 6 columns]"
            ]
          },
          "metadata": {
            "tags": []
          },
          "execution_count": 12
        }
      ]
    },
    {
      "cell_type": "code",
      "metadata": {
        "colab": {
          "base_uri": "https://localhost:8080/",
          "height": 1000
        },
        "id": "b6_6IqpMYEFR",
        "outputId": "1ae4ad86-754f-459b-81e3-5f6ee9528498"
      },
      "source": [
        "for i in X.columns:\n",
        "  plt.hist(X[i])\n",
        "  plt.title(i)\n",
        "  plt.show()\n",
        "print(X.corr())\n",
        "sb.heatmap(X.corr())"
      ],
      "execution_count": null,
      "outputs": [
        {
          "output_type": "display_data",
          "data": {
            "image/png": "[encoded data removed]",
            "text/plain": [
              "<Figure size 432x288 with 1 Axes>"
            ]
          },
          "metadata": {
            "tags": [],
            "needs_background": "light"
          }
        },
        {
          "output_type": "display_data",
          "data": {
            "image/png": "[encoded data removed]",
            "text/plain": [
              "<Figure size 432x288 with 1 Axes>"
            ]
          },
          "metadata": {
            "tags": [],
            "needs_background": "light"
          }
        },
        {
          "output_type": "display_data",
          "data": {
            "image/png": "[encoded data removed]",
            "text/plain": [
              "<Figure size 432x288 with 1 Axes>"
            ]
          },
          "metadata": {
            "tags": [],
            "needs_background": "light"
          }
        },
        {
          "output_type": "display_data",
          "data": {
            "image/png": "[encoded data removed]",
            "text/plain": [
              "<Figure size 432x288 with 1 Axes>"
            ]
          },
          "metadata": {
            "tags": [],
            "needs_background": "light"
          }
        },
        {
          "output_type": "display_data",
          "data": {
            "image/png": "[encoded data removed]",
            "text/plain": [
              "<Figure size 432x288 with 1 Axes>"
            ]
          },
          "metadata": {
            "tags": [],
            "needs_background": "light"
          }
        },
        {
          "output_type": "stream",
          "text": [
            "                 mean_radius  mean_texture  ...  mean_area  mean_smoothness\n",
            "mean_radius         1.000000      0.323782  ...   0.987357         0.170581\n",
            "mean_texture        0.323782      1.000000  ...   0.321086        -0.023389\n",
            "mean_perimeter      0.997855      0.329533  ...   0.986507         0.207278\n",
            "mean_area           0.987357      0.321086  ...   1.000000         0.177028\n",
            "mean_smoothness     0.170581     -0.023389  ...   0.177028         1.000000\n",
            "\n",
            "[5 rows x 5 columns]\n"
          ],
          "name": "stdout"
        },
        {
          "output_type": "execute_result",
          "data": {
            "text/plain": [
              "<matplotlib.axes._subplots.AxesSubplot at 0x7f82fd810518>"
            ]
          },
          "metadata": {
            "tags": []
          },
          "execution_count": 11
        },
        {
          "output_type": "display_data",
          "data": {
            "image/png": "[encoded data removed]",
            "text/plain": [
              "<Figure size 432x288 with 2 Axes>"
            ]
          },
          "metadata": {
            "tags": [],
            "needs_background": "light"
          }
        }
      ]
    },
    {
      "cell_type": "markdown",
      "metadata": {
        "id": "cFHOsddPOUYD"
      },
      "source": [
        "SVM\n"
      ]
    },
    {
      "cell_type": "code",
      "metadata": {
        "id": "cMjYxa0hOVxu",
        "colab": {
          "base_uri": "https://localhost:8080/"
        },
        "outputId": "96c92459-5286-4634-a56e-8fc8c61254a2"
      },
      "source": [
        "#se define el algoritmo de SVM /lineal\n",
        "kernels=['linear', 'poly', 'rbf', 'sigmoid']\n",
        "#lineal\n",
        "Kernel=0\n",
        "msv = svm.SVC(kernel=kernels[Kernel])\n",
        "\n",
        "#se entrena el modelo\n",
        "msv.fit(X_train, y_train)"
      ],
      "execution_count": null,
      "outputs": [
        {
          "output_type": "execute_result",
          "data": {
            "text/plain": [
              "SVC(C=1.0, break_ties=False, cache_size=200, class_weight=None, coef0=0.0,\n",
              "    decision_function_shape='ovr', degree=3, gamma='scale', kernel='linear',\n",
              "    max_iter=-1, probability=False, random_state=None, shrinking=True,\n",
              "    tol=0.001, verbose=False)"
            ]
          },
          "metadata": {
            "tags": []
          },
          "execution_count": 14
        }
      ]
    },
    {
      "cell_type": "code",
      "metadata": {
        "id": "nQogxJ5PQ_rW",
        "colab": {
          "base_uri": "https://localhost:8080/",
          "height": 329
        },
        "outputId": "8b09bc27-ca13-43fe-9560-c02fb349cd43"
      },
      "source": [
        "from sklearn.metrics import matthews_corrcoef\n",
        "from sklearn.metrics import accuracy_score\n",
        "from sklearn.metrics import roc_curve,roc_auc_score\n",
        "\n",
        "y_test_predicted = msv.predict(X_test)\n",
        "y_test_scores = msv.decision_function(X_test)\n",
        "MCC = matthews_corrcoef(y_test, y_test_predicted)\n",
        "print(\"matthews_corrcoef\", MCC)\n",
        "ACC = accuracy_score(y_test, y_test_predicted)\n",
        "print(\"Accuracy\", ACC)\n",
        "\n",
        "fpr,tpr,thresholds = roc_curve(y_test, y_test_scores)\n",
        "roc_auc=roc_auc_score(y_test, y_test_scores)\n",
        "plt.figure()\n",
        "lw = 2\n",
        "plt.plot(fpr, tpr, color='darkorange',lw=lw, label='ROC curve (area = %0.2f)' % roc_auc)\n",
        "plt.plot([0, 1], [0, 1], color='navy', lw=lw, linestyle='--')\n",
        "plt.xlim([0.0, 1.0])\n",
        "plt.ylim([0.0, 1.05])\n",
        "plt.xlabel('False Positive Rate')\n",
        "plt.ylabel('True Positive Rate')\n",
        "plt.title('Receiver operating characteristic. ROC')\n",
        "plt.legend(loc=\"lower right\")\n",
        "plt.show()"
      ],
      "execution_count": null,
      "outputs": [
        {
          "output_type": "stream",
          "text": [
            "matthews_corrcoef 0.7587794026610946\n",
            "Accuracy 0.8888888888888888\n"
          ],
          "name": "stdout"
        },
        {
          "output_type": "display_data",
          "data": {
            "image/png": "[encoded data removed]",
            "text/plain": [
              "<Figure size 432x288 with 1 Axes>"
            ]
          },
          "metadata": {
            "tags": [],
            "needs_background": "light"
          }
        }
      ]
    },
    {
      "cell_type": "markdown",
      "metadata": {
        "id": "d5eRgMZpx1p_"
      },
      "source": [
        "Regresión logistica"
      ]
    },
    {
      "cell_type": "code",
      "metadata": {
        "id": "9AwpYmUsxq1C",
        "colab": {
          "base_uri": "https://localhost:8080/"
        },
        "outputId": "db5bb6b3-d0e7-4958-ba2a-7cce31bddfe6"
      },
      "source": [
        "#se normalizan los datos\n",
        "\n",
        "escalar = StandardScaler()\n",
        "X_train = escalar.fit_transform(X_train)\n",
        "X_test = escalar.transform(X_test)\n",
        "\n",
        "#se define la regresion logistica\n",
        "\n",
        "\n",
        "\n",
        "LR = LogisticRegression()\n",
        "\n",
        "#Se entrena el model\n",
        "LR.fit(X_train, y_train)\n",
        "\n",
        "#se realiza la prediccion\n",
        "y_pred = LR.predict(X_test)\n",
        "print(y_pred)"
      ],
      "execution_count": null,
      "outputs": [
        {
          "output_type": "stream",
          "text": [
            "[0 0 1 1 0 0 1 1 1 1 0 0 1 1 1 1 1 1 0 1 1 0 1 1 0 1 1 1 1 1 1 0 1 1 0 1 0\n",
            " 1 1 1 1 1 0 1 0 0 1 1 1 1 1 1 0 1 1 1 1 1 0 0 0 1 1 1 0 0 1 0 1 1 0 1 1 0\n",
            " 0 1 1 0 0 1 0 1 0 1 1 0 1 1 1 0 1 1 0 1 1 1 0 1 0 1 1 1 1 1 1 0 1 1 1 1 1\n",
            " 0 1 1 1 0 1 1 0 0 1 0 1 1 1 1 1 0 0 0 1 0 1 1 1 1 1 1 1 1 1 1 1 1 0 1 1 1\n",
            " 1 0 0 1 0 1 1 1 1 1 0 1 1 0 0 0 1 0 1 0 1 0 1]\n"
          ],
          "name": "stdout"
        }
      ]
    },
    {
      "cell_type": "code",
      "metadata": {
        "id": "0JnrJH2Ryrqc",
        "colab": {
          "base_uri": "https://localhost:8080/",
          "height": 397
        },
        "outputId": "ab431c9a-a24a-44a4-e3bd-55bb99c54d5a"
      },
      "source": [
        "#Utilizar metricas-matriz de confusion\n",
        "matriz = confusion_matrix(y_test, y_pred)\n",
        "print('Matriz de confusión: ')\n",
        "print(matriz)\n",
        "#precision\n",
        "precision = precision_score(y_test, y_pred)\n",
        "print(precision)\n",
        "#Se realiza el calculo de la ROc y de el coeficiente de correlacion de matthews directo en al dataset\n",
        "y_test_predicted = LR.predict(X_test)\n",
        "y_test_scores = LR.predict_proba(X_test)\n",
        "MCC = matthews_corrcoef(y_test, y_pred)\n",
        "print(\"matthews_corrcoef\", MCC)\n",
        "ACC = accuracy_score(y_test, y_pred)\n",
        "print(\"Accuracy\", ACC)\n",
        "\"\"\"\n",
        "print(y_test_scores[:,1])\n",
        "print(y_test_predicted)\n",
        "\"\"\"\n",
        "fpr,tpr,thresholds = roc_curve(y_test, y_test_scores[:,1])\n",
        "roc_auc=roc_auc_score(y_test, y_test_scores[:,1])\n",
        "plt.figure()\n",
        "lw = 2\n",
        "plt.plot(fpr, tpr, color='darkorange',lw=lw, label='ROC curve (area = %0.2f)' % roc_auc)\n",
        "plt.plot([0, 1], [0, 1], color='navy', lw=lw, linestyle='--')\n",
        "plt.xlim([0.0, 1.0])\n",
        "plt.ylim([0.0, 1.05])\n",
        "plt.xlabel('False Positive Rate')\n",
        "plt.ylabel('True Positive Rate')\n",
        "plt.title('Receiver operating characteristic. ROC')\n",
        "plt.legend(loc=\"lower right\")\n",
        "plt.show()"
      ],
      "execution_count": null,
      "outputs": [
        {
          "output_type": "stream",
          "text": [
            "Matriz de confusión: \n",
            "[[ 50   8]\n",
            " [  5 108]]\n",
            "0.9310344827586207\n",
            "matthews_corrcoef 0.8288982673112816\n",
            "Accuracy 0.9239766081871345\n"
          ],
          "name": "stdout"
        },
        {
          "output_type": "display_data",
          "data": {
            "image/png": "[encoded data removed]",
            "text/plain": [
              "<Figure size 432x288 with 1 Axes>"
            ]
          },
          "metadata": {
            "tags": [],
            "needs_background": "light"
          }
        }
      ]
    },
    {
      "cell_type": "markdown",
      "metadata": {
        "id": "g2UUoKfr_BMw"
      },
      "source": [
        "KNN"
      ]
    },
    {
      "cell_type": "code",
      "metadata": {
        "colab": {
          "base_uri": "https://localhost:8080/"
        },
        "id": "OummeKxa_DnE",
        "outputId": "3abeb171-dbef-4a34-8c00-b69b99bbd19b"
      },
      "source": [
        "#llamo clasificador\n",
        "n_neighbors = 10\n",
        "distance='minkowski'\n",
        "knn = KNeighborsClassifier(n_neighbors,weights='uniform',metric=distance, metric_params=None,algorithm='brute')\n",
        "knn.fit(X_train, y_train)\n",
        "print('Accuracy of K-NN classifier on training set: {:.2f}'\n",
        "     .format(knn.score(X_train, y_train)))\n",
        "print('Accuracy of K-NN classifier on test set: {:.2f}'\n",
        "     .format(knn.score(X_test, y_test)))"
      ],
      "execution_count": null,
      "outputs": [
        {
          "output_type": "stream",
          "text": [
            "Accuracy of K-NN classifier on training set: 0.88\n",
            "Accuracy of K-NN classifier on test set: 0.91\n"
          ],
          "name": "stdout"
        }
      ]
    },
    {
      "cell_type": "code",
      "metadata": {
        "colab": {
          "base_uri": "https://localhost:8080/"
        },
        "id": "m39EUsN6_OOP",
        "outputId": "122f2645-7d05-4448-ff5e-3fea58978081"
      },
      "source": [
        "pred = knn.predict(X_test)\n",
        "print(confusion_matrix(y_test, pred))\n",
        "print(classification_report(y_test, pred))"
      ],
      "execution_count": null,
      "outputs": [
        {
          "output_type": "stream",
          "text": [
            "[[ 50   9]\n",
            " [  7 105]]\n",
            "              precision    recall  f1-score   support\n",
            "\n",
            "           0       0.88      0.85      0.86        59\n",
            "           1       0.92      0.94      0.93       112\n",
            "\n",
            "    accuracy                           0.91       171\n",
            "   macro avg       0.90      0.89      0.90       171\n",
            "weighted avg       0.91      0.91      0.91       171\n",
            "\n"
          ],
          "name": "stdout"
        }
      ]
    },
    {
      "cell_type": "code",
      "metadata": {
        "colab": {
          "base_uri": "https://localhost:8080/",
          "height": 383
        },
        "id": "wS1a_30dAuJf",
        "outputId": "f49c29fb-e1bd-46e7-d62e-64c5ed8ceb89"
      },
      "source": [
        "k_range = range(1, 15)\n",
        "scores = []\n",
        "for k in k_range:\n",
        "    knn = KNeighborsClassifier(n_neighbors = k,weights='distance',metric=distance, metric_params=None,algorithm='brute')\n",
        "    knn.fit(X_train, y_train)\n",
        "    scores.append(knn.score(X_test, y_test))\n",
        "plt.figure()\n",
        "plt.xlabel('k')\n",
        "plt.ylabel('accuracy')\n",
        "plt.scatter(k_range, scores)\n",
        "plt.xticks([0,5,10,15,20])"
      ],
      "execution_count": null,
      "outputs": [
        {
          "output_type": "execute_result",
          "data": {
            "text/plain": [
              "([<matplotlib.axis.XTick at 0x7f28f5ef6780>,\n",
              "  <matplotlib.axis.XTick at 0x7f28f5ef6748>,\n",
              "  <matplotlib.axis.XTick at 0x7f28f5ef6390>,\n",
              "  <matplotlib.axis.XTick at 0x7f28f5e92e80>,\n",
              "  <matplotlib.axis.XTick at 0x7f28f5ea0470>],\n",
              " <a list of 5 Text major ticklabel objects>)"
            ]
          },
          "metadata": {
            "tags": []
          },
          "execution_count": 32
        },
        {
          "output_type": "display_data",
          "data": {
            "image/png": "[encoded data removed]",
            "text/plain": [
              "<Figure size 432x288 with 1 Axes>"
            ]
          },
          "metadata": {
            "tags": [],
            "needs_background": "light"
          }
        }
      ]
    },
    {
      "cell_type": "markdown",
      "metadata": {
        "id": "8M87OKATMKTx"
      },
      "source": [
        "RED NEURONAL"
      ]
    },
    {
      "cell_type": "code",
      "metadata": {
        "id": "6BDISRAjMJvB",
        "colab": {
          "base_uri": "https://localhost:8080/"
        },
        "outputId": "0a3bc291-518a-4c52-fcd7-4ab70895f8e5"
      },
      "source": [
        "#normalizacion de los datos\n",
        "scaler = StandardScaler()\n",
        "scaler.fit(X_train)\n",
        "X_train = scaler.transform(X_train)\n",
        "X_test = scaler.transform(X_test)\n",
        "\n",
        "#Llamo red neuronal\n",
        "mlp=MLPClassifier(hidden_layer_sizes=(10,10,10), max_iter=500, alpha=0.0001, solver='adam', random_state=21,tol=0.000000001)\n",
        "mlp.fit(X_train,y_train)\n",
        "predictions=mlp.predict(X_test)\n",
        "print(confusion_matrix(y_test, predictions))\n",
        "print(classification_report(y_test,predictions))\n",
        "print(predictions)"
      ],
      "execution_count": null,
      "outputs": [
        {
          "output_type": "stream",
          "text": [
            "[[ 51   8]\n",
            " [  5 107]]\n",
            "              precision    recall  f1-score   support\n",
            "\n",
            "           0       0.91      0.86      0.89        59\n",
            "           1       0.93      0.96      0.94       112\n",
            "\n",
            "    accuracy                           0.92       171\n",
            "   macro avg       0.92      0.91      0.91       171\n",
            "weighted avg       0.92      0.92      0.92       171\n",
            "\n",
            "[1 1 1 0 0 0 1 1 1 1 1 1 0 1 1 0 1 1 1 1 0 0 1 1 1 0 1 1 1 1 1 1 1 0 0 1 1\n",
            " 1 1 1 1 1 0 0 0 1 1 0 0 0 1 0 0 1 0 1 1 1 1 1 0 1 0 1 1 1 0 0 1 1 1 0 1 1\n",
            " 1 1 1 0 1 1 1 0 0 0 0 1 1 1 1 1 0 1 0 0 1 0 1 1 1 1 1 0 1 1 1 1 1 1 1 0 0\n",
            " 1 1 1 1 0 1 0 1 1 1 0 0 1 0 0 1 1 1 0 1 1 1 1 1 0 1 0 1 0 1 1 1 1 0 0 1 1\n",
            " 1 1 1 1 1 1 0 0 1 0 1 0 1 1 0 1 0 0 1 0 1 1 1]\n"
          ],
          "name": "stdout"
        },
        {
          "output_type": "stream",
          "text": [
            "/usr/local/lib/python3.6/dist-packages/sklearn/neural_network/_multilayer_perceptron.py:571: ConvergenceWarning: Stochastic Optimizer: Maximum iterations (500) reached and the optimization hasn't converged yet.\n",
            "  % self.max_iter, ConvergenceWarning)\n"
          ],
          "name": "stderr"
        }
      ]
    }
  ]
}